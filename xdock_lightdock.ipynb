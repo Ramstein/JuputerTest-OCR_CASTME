{
 "cells": [
  {
   "cell_type": "code",
   "execution_count": 1,
   "metadata": {},
   "outputs": [],
   "source": [
    "# import os\n",
    "# os.listdir('/kaggle/input')"
   ]
  },
  {
   "cell_type": "code",
   "execution_count": 2,
   "metadata": {
    "_cell_guid": "b1076dfc-b9ad-4769-8c92-a6c4dae69d19",
    "_uuid": "8f2839f25d086af736a60e9eeb907d3b93b6e0e5"
   },
   "outputs": [],
   "source": [
    "# ! chmod +x /kaggle/input/xdock-lighdock/setup.sh\n",
    "# ! bash /kaggle/input/xdock-lighdock/setup.sh -b -f -p /usr/local"
   ]
  },
  {
   "cell_type": "code",
   "execution_count": 3,
   "metadata": {
    "_cell_guid": "79c7e3d0-c299-4dcb-8224-4455121ee9b0",
    "_uuid": "d629ff2d2480ee46fbb7e2d37f6b5fab8052498a"
   },
   "outputs": [],
   "source": [
    "# !pip install /kaggle/input/lightdock-0.8.0b2"
   ]
  },
  {
   "cell_type": "markdown",
   "metadata": {},
   "source": [
    "## lightdock imports"
   ]
  },
  {
   "cell_type": "code",
   "execution_count": 1,
   "metadata": {},
   "outputs": [],
   "source": [
    "from lightdock.lightdock3_setup import SetupASimulation  # setup a simulation\n",
    "\n",
    "# def SetupASimulation(receptor_pdb: valid_file, ligand_pdb: valid_file,\n",
    "#                      swarms: valid_integer_number, glowworms: valid_integer_number,\n",
    "#                      ftdock_file: valid_file, starting_points_seed=STARTING_POINTS_SEED,\n",
    "#                      noxt=False, noh=False, verbose_parser=False, use_anm=False, anm_seed=STARTING_NM_SEED,\n",
    "#                      anm_rec: valid_natural_number = DEFAULT_NMODES_REC,\n",
    "#                      anm_lig: valid_natural_number = DEFAULT_NMODES_LIG,\n",
    "#                      restraints: valid_file = None, membrane=False):\n",
    "\n",
    "from lightdock.lightdock3 import RunASimulation  # runs a simulation\n",
    "\n",
    "# def RunASimulation(setup_file: valid_file, configuration_file, scoring_function=DEFAULT_SCORING_FUNCTION,\n",
    "#                    steps: valid_integer_number = DEFAULT_TRANSLATION_STEP,\n",
    "#                    gso_seed=GSO_SEED, mpi=False, profiling=False, translation_step: valid_float_number = 0.5,\n",
    "#                    rotation_step: valid_float_number = DEFAULT_ROTATION_STEP,\n",
    "#                    nmodes_step: valid_integer_number = DEFAULT_NMODES_STEP,\n",
    "#                    local_minimization=False, listscoring=False):\n",
    "\n",
    "from lightdock.lgd_generate_conformations import generate_models  # generate models\n",
    "\n",
    "# def generate_models(receptor_structures: CommandLineParser.valid_file,\n",
    "#                     ligand_structures: CommandLineParser.valid_file,\n",
    "#                     lightdock_output: CommandLineParser.valid_file,\n",
    "#                     setup_file: CommandLineParser.valid_file = None,\n",
    "#                     glowworms: CommandLineParser.valid_integer_number = 10):\n",
    "\n",
    "\n",
    "from lightdock.lgd_cluster_bsas import clustering_models\n",
    "\n",
    "# def clustering_models(gso_output_file):\n"
   ]
  },
  {
   "cell_type": "code",
   "execution_count": 2,
   "metadata": {},
   "outputs": [],
   "source": [
    "import os\n",
    "if not os.path.exists(os.getcwd()+\"/docking\"):\n",
    "    os.makedirs(os.getcwd()+\"/docking\")"
   ]
  },
  {
   "cell_type": "code",
   "execution_count": 3,
   "metadata": {},
   "outputs": [],
   "source": [
    "if os.getcwd() !=r\"C:\\Users\\user\\docking\":\n",
    "    os.chdir(os.getcwd()+\"/docking\")"
   ]
  },
  {
   "cell_type": "code",
   "execution_count": 4,
   "metadata": {},
   "outputs": [
    {
     "data": {
      "text/plain": [
       "'C:\\\\Users\\\\user\\\\docking'"
      ]
     },
     "execution_count": 4,
     "metadata": {},
     "output_type": "execute_result"
    }
   ],
   "source": [
    "os.getcwd()"
   ]
  },
  {
   "cell_type": "code",
   "execution_count": 5,
   "metadata": {},
   "outputs": [],
   "source": [
    "####### Single protein-protein docking example\n",
    "\n",
    "# !pip install wget\n",
    "# !wget https://raw.githubusercontent.com/lightdock/lightdock.github.io/master/tutorials/examples/2UUY/2UUY_rec.pdb\n",
    "# !wget https://raw.githubusercontent.com/lightdock/lightdock.github.io/master/tutorials/examples/2UUY/2UUY_lig.pdb"
   ]
  },
  {
   "cell_type": "code",
   "execution_count": null,
   "metadata": {},
   "outputs": [],
   "source": []
  },
  {
   "cell_type": "code",
   "execution_count": 6,
   "metadata": {
    "scrolled": false
   },
   "outputs": [
    {
     "name": "stdout",
     "output_type": "stream",
     "text": [
      "[lightdock_setup] INFO: Reading structure from 2UUY_rec.pdb PDB file...\n",
      "[lightdock_setup] INFO: 1628 atoms, 223 residues read.\n",
      "[lightdock_setup] INFO: Reading structure from 2UUY_lig.pdb PDB file...\n",
      "[lightdock_setup] INFO: 415 atoms, 55 residues read.\n",
      "[lightdock_setup] INFO: Calculating reference points for receptor 2UUY_rec.pdb...\n",
      "[lightdock_setup] INFO: Done.\n",
      "[lightdock_setup] INFO: Calculating reference points for ligand 2UUY_lig.pdb...\n",
      "[lightdock_setup] INFO: Done.\n",
      "[lightdock_setup] INFO: Saving processed structure to PDB file...\n",
      "[lightdock_setup] INFO: Done.\n",
      "[lightdock_setup] INFO: Saving processed structure to PDB file...\n",
      "[lightdock_setup] INFO: Done.\n",
      "[lightdock_setup] INFO: Calculating starting positions...\n",
      "[lightdock_setup] INFO: Generated 10 positions files\n",
      "[lightdock_setup] INFO: Done.\n",
      "[lightdock_setup] INFO: Preparing environment\n",
      "[lightdock_setup] INFO: Done.\n",
      "[lightdock_setup] INFO: LightDock setup OK\n"
     ]
    }
   ],
   "source": [
    "# , starting_points_seed=STARTING_POINTS_SEED,\n",
    "#                      noxt=False, noh=False, verbose_parser=False, use_anm=False, anm_seed=STARTING_NM_SEED,\n",
    "#                      anm_rec: valid_natural_number = DEFAULT_NMODES_REC,\n",
    "#                      anm_lig: valid_natural_number = DEFAULT_NMODES_LIG,\n",
    "#                      restraints: valid_file = None, membrane=False\n",
    "\n",
    "SetupASimulation(receptor_pdb='2UUY_rec.pdb',\n",
    "                 ligand_pdb=\"2UUY_lig.pdb\",\n",
    "                 use_anm=False,\n",
    "                     swarms=10, glowworms=50,\n",
    "                     ftdock_file=None)"
   ]
  },
  {
   "cell_type": "code",
   "execution_count": 7,
   "metadata": {},
   "outputs": [
    {
     "name": "stdout",
     "output_type": "stream",
     "text": [
      "[lightdock] INFO: simulation parameters saved to .\\lightdock.info\n",
      "[lightdock_setup] INFO: Reading structure from lightdock_2UUY_rec.pdb PDB file...\n",
      "[lightdock_setup] INFO: 1628 atoms, 223 residues read.\n",
      "[lightdock_setup] INFO: Reading structure from lightdock_2UUY_lig.pdb PDB file...\n",
      "[lightdock_setup] INFO: 415 atoms, 55 residues read.\n",
      "[lightdock] INFO: Loading scoring function...\n",
      "[lightdock] INFO: Using DFIRE scoring function\n",
      "[lightdock] INFO: Done.\n",
      "[kraken] WARNING: Number of cores has not been specified or is incorrect. Using available cores.\n",
      "[kraken] INFO: Kraken has 4 tentacles (cpu cores)\n",
      "[kraken] INFO: Tentacle ready with 3 tasks\n",
      "[kraken] INFO: Tentacle ready with 3 tasks\n",
      "[kraken] INFO: Tentacle ready with 2 tasks\n",
      "[kraken] INFO: Tentacle ready with 2 tasks\n",
      "[kraken] INFO: 10 ships ready to be smashed\n",
      "[lightdock] INFO: Monster spotted\n",
      "[kraken] INFO: Release the Kraken!\n",
      "[kraken] INFO: 10 ships destroyed\n",
      "[lightdock] INFO: Finished.\n"
     ]
    }
   ],
   "source": [
    "# RunASimulation(setup_file: valid_file, configuration_file, scoring_function=DEFAULT_SCORING_FUNCTION,\n",
    "#                    steps: valid_integer_number = DEFAULT_TRANSLATION_STEP,\n",
    "#                    gso_seed=GSO_SEED, mpi=False, profiling=False, translation_step: valid_float_number = 0.5,\n",
    "#                    rotation_step: valid_float_number = DEFAULT_ROTATION_STEP,\n",
    "#                    nmodes_step: valid_integer_number = DEFAULT_NMODES_STEP,\n",
    "#                    local_minimization=False, listscoring=False):\n",
    "\n",
    "RunASimulation(setup_file='setup.json', configuration_file=None,\n",
    "               steps=10)"
   ]
  },
  {
   "cell_type": "code",
   "execution_count": 9,
   "metadata": {},
   "outputs": [
    {
     "name": "stdout",
     "output_type": "stream",
     "text": [
      "[generate_conformations] INFO: Reading lightdock_2UUY_rec.pdb receptor PDB file...\n",
      "[generate_conformations] INFO: 1628 atoms, 223 residues read.\n",
      "[generate_conformations] INFO: Reading lightdock_2UUY_lig.pdb ligand PDB file...\n",
      "[generate_conformations] INFO: 415 atoms, 55 residues read.\n",
      "[generate_conformations] INFO: Read 50 coordinate lines\n",
      "[generate_conformations] INFO: Generated 10 conformations\n"
     ]
    }
   ],
   "source": [
    "# def generate_models(receptor_structures: CommandLineParser.valid_file,\n",
    "#                     ligand_structures: CommandLineParser.valid_file,\n",
    "#                     lightdock_output: CommandLineParser.valid_file,\n",
    "#                     setup_file: CommandLineParser.valid_file = None,\n",
    "#                     glowworms: CommandLineParser.valid_integer_number = 10):\n",
    "generate_models(receptor_structures='2UUY_rec.pdb',\n",
    "                    ligand_structures=\"2UUY_lig.pdb\",\n",
    "                    lightdock_output=r\"C:\\Users\\user\\docking\\swarm_3\\gso_10.out\",\n",
    "                    setup_file= None,\n",
    "                    glowworms = 10)\n",
    " "
   ]
  },
  {
   "cell_type": "code",
   "execution_count": 10,
   "metadata": {},
   "outputs": [],
   "source": [
    "if os.getcwd() !=r\"C:\\Users\\user\\docking\\complex protein protein docking\":\n",
    "    os.chdir(os.getcwd()+\"/complex protein protein docking\")"
   ]
  },
  {
   "cell_type": "code",
   "execution_count": 11,
   "metadata": {},
   "outputs": [
    {
     "name": "stdout",
     "output_type": "stream",
     "text": [
      "[lightdock_setup] INFO: Reading structure from 4G6M_rec.pdb PDB file...\n",
      "[lightdock_setup] INFO: 1782 atoms, 230 residues read.\n",
      "[lightdock_setup] INFO: Reading structure from 4G6M_lig.pdb PDB file...\n",
      "[lightdock_setup] INFO: 1194 atoms, 149 residues read.\n",
      "[lightdock_setup] INFO: Calculating reference points for receptor 4G6M_rec.pdb...\n",
      "[lightdock_setup] INFO: Done.\n",
      "[lightdock_setup] INFO: Calculating reference points for ligand 4G6M_lig.pdb...\n",
      "[lightdock_setup] INFO: Done.\n",
      "[lightdock_setup] INFO: Saving processed structure to PDB file...\n",
      "[lightdock_setup] INFO: Done.\n",
      "[lightdock_setup] INFO: Saving processed structure to PDB file...\n",
      "[lightdock_setup] INFO: Done.\n",
      "[lightdock_setup] INFO: Reading restraints from restraints.list\n",
      "[lightdock_setup] INFO: Number of receptor restraints is: 20 (active), 0 (passive)\n",
      "[lightdock_setup] INFO: Number of ligand restraints is: 21 (active), 0 (passive)\n",
      "[lightdock_setup] INFO: Calculating starting positions...\n",
      "[lightdock_setup] INFO: Generated 47 positions files\n",
      "[lightdock_setup] INFO: Done.\n",
      "[lightdock_setup] INFO: Number of swarms is 47 after applying restraints\n",
      "[lightdock_setup] INFO: Preparing environment\n",
      "[lightdock_setup] INFO: Done.\n",
      "[lightdock_setup] INFO: LightDock setup OK\n"
     ]
    }
   ],
   "source": [
    "#############  complex protein protein docking example with restrainsts\n",
    "\n",
    "\n",
    "# , starting_points_seed=STARTING_POINTS_SEED,\n",
    "#                      noxt=False, noh=False, verbose_parser=False, use_anm=False, anm_seed=STARTING_NM_SEED,\n",
    "#                      anm_rec: valid_natural_number = DEFAULT_NMODES_REC,\n",
    "#                      anm_lig: valid_natural_number = DEFAULT_NMODES_LIG,\n",
    "#                      restraints: valid_file = None, membrane=False\n",
    "\n",
    "SetupASimulation(receptor_pdb='4G6M_rec.pdb',\n",
    "                 ligand_pdb=\"4G6M_lig.pdb\",\n",
    "                 use_anm=False,\n",
    "                     swarms=150, glowworms=50,\n",
    "                     ftdock_file=None, restraints=\"restraints.list\" )"
   ]
  },
  {
   "cell_type": "code",
   "execution_count": 11,
   "metadata": {},
   "outputs": [
    {
     "name": "stdout",
     "output_type": "stream",
     "text": [
      "[lightdock] INFO: simulation parameters saved to .\\lightdock.info\n",
      "[lightdock_setup] INFO: Reading structure from lightdock_4G6M_rec.pdb PDB file...\n",
      "[lightdock_setup] INFO: 1782 atoms, 230 residues read.\n",
      "[lightdock_setup] INFO: Reading structure from lightdock_4G6M_lig.pdb PDB file...\n",
      "[lightdock_setup] INFO: 1194 atoms, 149 residues read.\n",
      "[lightdock] INFO: Loading scoring function...\n",
      "[lightdock] INFO: Using DFIRE scoring function\n",
      "[lightdock] INFO: Done.\n",
      "[kraken] WARNING: Number of cores has not been specified or is incorrect. Using available cores.\n",
      "[kraken] INFO: Kraken has 4 tentacles (cpu cores)\n",
      "[kraken] INFO: Tentacle ready with 12 tasks\n",
      "[kraken] INFO: Tentacle ready with 12 tasks\n",
      "[kraken] INFO: Tentacle ready with 12 tasks\n",
      "[kraken] INFO: Tentacle ready with 11 tasks\n",
      "[kraken] INFO: 47 ships ready to be smashed\n",
      "[lightdock] INFO: Monster spotted\n",
      "[kraken] INFO: Release the Kraken!\n",
      "[kraken] INFO: 47 ships destroyed\n",
      "[lightdock] INFO: Finished.\n"
     ]
    }
   ],
   "source": [
    "# RunASimulation(setup_file: valid_file, configuration_file, scoring_function=DEFAULT_SCORING_FUNCTION,\n",
    "#                    steps: valid_integer_number = DEFAULT_TRANSLATION_STEP,\n",
    "#                    gso_seed=GSO_SEED, mpi=False, profiling=False, translation_step: valid_float_number = 0.5,\n",
    "#                    rotation_step: valid_float_number = DEFAULT_ROTATION_STEP,\n",
    "#                    nmodes_step: valid_integer_number = DEFAULT_NMODES_STEP,\n",
    "#                    local_minimization=False, listscoring=False):\n",
    "\n",
    "RunASimulation(setup_file='setup.json', configuration_file=None,\n",
    "               steps=10)"
   ]
  },
  {
   "cell_type": "code",
   "execution_count": 12,
   "metadata": {},
   "outputs": [
    {
     "name": "stdout",
     "output_type": "stream",
     "text": [
      "[generate_conformations] INFO: Reading lightdock_4G6M_rec.pdb receptor PDB file...\n",
      "[generate_conformations] INFO: 1782 atoms, 230 residues read.\n",
      "[generate_conformations] INFO: Reading lightdock_4G6M_lig.pdb ligand PDB file...\n",
      "[generate_conformations] INFO: 1194 atoms, 149 residues read.\n"
     ]
    },
    {
     "ename": "FileNotFoundError",
     "evalue": "[Errno 2] No such file or directory: 'C:\\\\Users\\\\user\\\\docking\\\\complex protein protein docking\\\\swarm_0\\\\gso_0.out'",
     "output_type": "error",
     "traceback": [
      "\u001b[1;31m---------------------------------------------------------------------------\u001b[0m",
      "\u001b[1;31mFileNotFoundError\u001b[0m                         Traceback (most recent call last)",
      "\u001b[1;32m<ipython-input-12-94b82d38ce2a>\u001b[0m in \u001b[0;36m<module>\u001b[1;34m\u001b[0m\n\u001b[0;32m      8\u001b[0m                     \u001b[0mlightdock_output\u001b[0m\u001b[1;33m=\u001b[0m\u001b[1;34mr\"C:\\Users\\user\\docking\\complex protein protein docking\\swarm_0\\gso_0.out\"\u001b[0m\u001b[1;33m,\u001b[0m\u001b[1;33m\u001b[0m\u001b[1;33m\u001b[0m\u001b[0m\n\u001b[0;32m      9\u001b[0m                     \u001b[0msetup_file\u001b[0m\u001b[1;33m=\u001b[0m \u001b[1;32mNone\u001b[0m\u001b[1;33m,\u001b[0m\u001b[1;33m\u001b[0m\u001b[1;33m\u001b[0m\u001b[0m\n\u001b[1;32m---> 10\u001b[1;33m                     glowworms = 10)\n\u001b[0m\u001b[0;32m     11\u001b[0m \u001b[1;33m\u001b[0m\u001b[0m\n",
      "\u001b[1;32m~\\anaconda3\\lib\\site-packages\\lightdock\\lgd_generate_conformations.py\u001b[0m in \u001b[0;36mgenerate_models\u001b[1;34m(receptor_structures, ligand_structures, lightdock_output, setup_file, glowworms)\u001b[0m\n\u001b[0;32m     84\u001b[0m     \u001b[1;31m# Output file\u001b[0m\u001b[1;33m\u001b[0m\u001b[1;33m\u001b[0m\u001b[1;33m\u001b[0m\u001b[0m\n\u001b[0;32m     85\u001b[0m     \u001b[0mtranslations\u001b[0m\u001b[1;33m,\u001b[0m \u001b[0mrotations\u001b[0m\u001b[1;33m,\u001b[0m \u001b[0mreceptor_ids\u001b[0m\u001b[1;33m,\u001b[0m \u001b[0mligand_ids\u001b[0m\u001b[1;33m,\u001b[0m\u001b[0;31m \u001b[0m\u001b[0;31m\\\u001b[0m\u001b[1;33m\u001b[0m\u001b[1;33m\u001b[0m\u001b[0m\n\u001b[1;32m---> 86\u001b[1;33m     \u001b[0mrec_extents\u001b[0m\u001b[1;33m,\u001b[0m \u001b[0mlig_extents\u001b[0m \u001b[1;33m=\u001b[0m \u001b[0mparse_output_file\u001b[0m\u001b[1;33m(\u001b[0m\u001b[0mlightdock_output\u001b[0m\u001b[1;33m,\u001b[0m \u001b[0mnum_anm_rec\u001b[0m\u001b[1;33m,\u001b[0m \u001b[0mnum_anm_lig\u001b[0m\u001b[1;33m)\u001b[0m\u001b[1;33m\u001b[0m\u001b[1;33m\u001b[0m\u001b[0m\n\u001b[0m\u001b[0;32m     87\u001b[0m \u001b[1;33m\u001b[0m\u001b[0m\n\u001b[0;32m     88\u001b[0m     \u001b[0mfound_conformations\u001b[0m \u001b[1;33m=\u001b[0m \u001b[0mlen\u001b[0m\u001b[1;33m(\u001b[0m\u001b[0mtranslations\u001b[0m\u001b[1;33m)\u001b[0m\u001b[1;33m\u001b[0m\u001b[1;33m\u001b[0m\u001b[0m\n",
      "\u001b[1;32m~\\anaconda3\\lib\\site-packages\\lightdock\\lgd_generate_conformations.py\u001b[0m in \u001b[0;36mparse_output_file\u001b[1;34m(lightdock_output, num_anm_rec, num_anm_lig)\u001b[0m\n\u001b[0;32m     27\u001b[0m     \u001b[0mlig_extents\u001b[0m \u001b[1;33m=\u001b[0m \u001b[1;33m[\u001b[0m\u001b[1;33m]\u001b[0m\u001b[1;33m\u001b[0m\u001b[1;33m\u001b[0m\u001b[0m\n\u001b[0;32m     28\u001b[0m \u001b[1;33m\u001b[0m\u001b[0m\n\u001b[1;32m---> 29\u001b[1;33m     \u001b[0mdata_file\u001b[0m \u001b[1;33m=\u001b[0m \u001b[0mopen\u001b[0m\u001b[1;33m(\u001b[0m\u001b[0mlightdock_output\u001b[0m\u001b[1;33m)\u001b[0m\u001b[1;33m\u001b[0m\u001b[1;33m\u001b[0m\u001b[0m\n\u001b[0m\u001b[0;32m     30\u001b[0m     \u001b[0mlines\u001b[0m \u001b[1;33m=\u001b[0m \u001b[0mdata_file\u001b[0m\u001b[1;33m.\u001b[0m\u001b[0mreadlines\u001b[0m\u001b[1;33m(\u001b[0m\u001b[1;33m)\u001b[0m\u001b[1;33m\u001b[0m\u001b[1;33m\u001b[0m\u001b[0m\n\u001b[0;32m     31\u001b[0m     \u001b[0mdata_file\u001b[0m\u001b[1;33m.\u001b[0m\u001b[0mclose\u001b[0m\u001b[1;33m(\u001b[0m\u001b[1;33m)\u001b[0m\u001b[1;33m\u001b[0m\u001b[1;33m\u001b[0m\u001b[0m\n",
      "\u001b[1;31mFileNotFoundError\u001b[0m: [Errno 2] No such file or directory: 'C:\\\\Users\\\\user\\\\docking\\\\complex protein protein docking\\\\swarm_0\\\\gso_0.out'"
     ]
    }
   ],
   "source": [
    "# def generate_models(receptor_structures: CommandLineParser.valid_file,\n",
    "#                     ligand_structures: CommandLineParser.valid_file,\n",
    "#                     lightdock_output: CommandLineParser.valid_file,\n",
    "#                     setup_file: CommandLineParser.valid_file = None,\n",
    "#                     glowworms: CommandLineParser.valid_integer_number = 10):0\n",
    "generate_models(receptor_structures='4G6M_rec.pdb',\n",
    "                    ligand_structures=\"4G6M_lig.pdb\",\n",
    "                    lightdock_output=r\"C:\\Users\\user\\docking\\complex protein protein docking\\swarm_0\\gso_0.out\",\n",
    "                    setup_file= None,\n",
    "                    glowworms = 10)\n",
    " "
   ]
  },
  {
   "cell_type": "code",
   "execution_count": null,
   "metadata": {},
   "outputs": [],
   "source": []
  }
 ],
 "metadata": {
  "kernelspec": {
   "display_name": "Python 3",
   "language": "python",
   "name": "python3"
  },
  "language_info": {
   "codemirror_mode": {
    "name": "ipython",
    "version": 3
   },
   "file_extension": ".py",
   "mimetype": "text/x-python",
   "name": "python",
   "nbconvert_exporter": "python",
   "pygments_lexer": "ipython3",
   "version": "3.7.6"
  }
 },
 "nbformat": 4,
 "nbformat_minor": 4
}
